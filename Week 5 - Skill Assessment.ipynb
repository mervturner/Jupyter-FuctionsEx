{
 "cells": [
  {
   "cell_type": "markdown",
   "id": "16bd396e",
   "metadata": {},
   "source": [
    "# Week 5 - Skills Assessment"
   ]
  },
  {
   "cell_type": "markdown",
   "id": "9d3b2366",
   "metadata": {},
   "source": [
    "## Task 2 - Foot-printing HTTP Headers"
   ]
  },
  {
   "cell_type": "code",
   "execution_count": 1,
   "id": "c059a8ba",
   "metadata": {},
   "outputs": [
    {
     "name": "stdout",
     "output_type": "stream",
     "text": [
      "<Response [200]>\n"
     ]
    }
   ],
   "source": [
    "import requests\n",
    "\n",
    "r = requests.get('http://www.google.com')\n",
    "print(r)"
   ]
  },
  {
   "cell_type": "code",
   "execution_count": 2,
   "id": "b425cfb4",
   "metadata": {},
   "outputs": [
    {
     "name": "stdout",
     "output_type": "stream",
     "text": [
      "{'User-Agent': 'python-requests/2.27.1', 'Accept-Encoding': 'gzip, deflate', 'Accept': '*/*', 'Connection': 'keep-alive'}\n"
     ]
    }
   ],
   "source": [
    "print(r.request.headers)"
   ]
  },
  {
   "cell_type": "code",
   "execution_count": 6,
   "id": "8d639209",
   "metadata": {},
   "outputs": [
    {
     "name": "stdout",
     "output_type": "stream",
     "text": [
      "{'Date': 'Wed, 16 Mar 2022 13:09:41 GMT', 'Expires': '-1', 'Cache-Control': 'private, max-age=0', 'Content-Type': 'text/html; charset=ISO-8859-1', 'P3P': 'CP=\"This is not a P3P policy! See g.co/p3phelp for more info.\"', 'Content-Encoding': 'gzip', 'Server': 'gws', 'Content-Length': '6196', 'X-XSS-Protection': '0', 'X-Frame-Options': 'SAMEORIGIN', 'Set-Cookie': '1P_JAR=2022-03-16-13; expires=Fri, 15-Apr-2022 13:09:41 GMT; path=/; domain=.google.com; Secure, NID=511=fsqea15eVNM0YwqKEsCNx4RFHRqCh4oTLre6dztir6MTK_rA8YtnivjKmcoisWGQF6BZI8e6_b8bJMdL-c0zxUW8XkryqCHYJkfdZEp1hQFmNPj1flnfVMuN2ivbKkEQcC6cDezU_x0V9dY-B3RxNQJkLPURbEVI70eKGHI4tJM; expires=Thu, 15-Sep-2022 13:09:41 GMT; path=/; domain=.google.com; HttpOnly'}\n"
     ]
    }
   ],
   "source": [
    "print(r.headers)"
   ]
  },
  {
   "cell_type": "code",
   "execution_count": 20,
   "id": "923efbf5",
   "metadata": {},
   "outputs": [
    {
     "name": "stdout",
     "output_type": "stream",
     "text": [
      "Server        :  gws\n",
      "Date          :  Wed, 16 Mar 2022 13:09:41 GMT\n",
      "X-Country-Code:  Information not available\n",
      "Connection    :  Information not available\n",
      "Content-Length:  6196\n"
     ]
    }
   ],
   "source": [
    "print('Server        : ', r.headers['Server'])\n",
    "print('Date          : ', r.headers['Date'])\n",
    "print('X-Country-Code: ', 'Information not available')\n",
    "print('Connection    : ', 'Information not available')\n",
    "print('Content-Length: ', r.headers['Content-Length'])"
   ]
  },
  {
   "cell_type": "code",
   "execution_count": null,
   "id": "a5fc012f",
   "metadata": {},
   "outputs": [],
   "source": []
  }
 ],
 "metadata": {
  "kernelspec": {
   "display_name": "Python 3 (ipykernel)",
   "language": "python",
   "name": "python3"
  },
  "language_info": {
   "codemirror_mode": {
    "name": "ipython",
    "version": 3
   },
   "file_extension": ".py",
   "mimetype": "text/x-python",
   "name": "python",
   "nbconvert_exporter": "python",
   "pygments_lexer": "ipython3",
   "version": "3.10.2"
  }
 },
 "nbformat": 4,
 "nbformat_minor": 5
}
