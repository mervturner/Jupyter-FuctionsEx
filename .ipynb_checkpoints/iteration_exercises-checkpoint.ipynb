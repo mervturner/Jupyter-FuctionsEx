{
 "cells": [
  {
   "cell_type": "markdown",
   "id": "92625ca1",
   "metadata": {},
   "source": [
    "## Python Exercises - Iteration\n",
    "\n",
    "### Outcomes\n",
    "\n",
    "By the completion of this exercise you should understand how to:\n",
    " * Capture input from the user\n",
    " * Use a while loop\n",
    "\n",
    "### Overview\n",
    "\n",
    "#### Introduction\n",
    "In this exercise we will be looking at how we can iterate (loop) through a block of code using a while loop\n",
    "\n",
    "#### Instructions\n",
    "For the following tasks, you will be provided minimal instructions, and have to rely on \n",
    "the guidance and your own research to complete them.\n",
    "Your work should be placed inside of a folder called iteration_exercises. It will have \n",
    "the following structure:\n",
    "iteration_exercises/\n",
    "├── task_one.py\n",
    "├── task_two.py\n",
    "├── task_three.py\n",
    "├── task_four.py\n",
    "Note that there is a .py file for each task. Ensure you follow this structure when \n",
    "completing each task in this set of exercises. If you are unsure how to create script \n",
    "files, consult your teacher\n"
   ]
  },
  {
   "cell_type": "code",
   "execution_count": 1,
   "id": "c058daad",
   "metadata": {},
   "outputs": [
    {
     "data": {
      "text/plain": [
       "'\\nTask 01\\nWrite Python code which displays the numbers 1 to 12 separated by tabular spaces.\\nPlace your work inside a script file called task_one.py.\\nThe expected output should be:\\n1 2 3 4 5 6 7 8 9 10 11 12\\n'"
      ]
     },
     "execution_count": 1,
     "metadata": {},
     "output_type": "execute_result"
    }
   ],
   "source": [
    "'''\n",
    "Task 01\n",
    "Write Python code which displays the numbers 1 to 12 separated by tabular spaces.\n",
    "Place your work inside a script file called task_one.py.\n",
    "The expected output should be:\n",
    "1 2 3 4 5 6 7 8 9 10 11 12\n",
    "'''"
   ]
  },
  {
   "cell_type": "code",
   "execution_count": 5,
   "id": "52746056",
   "metadata": {},
   "outputs": [
    {
     "name": "stdout",
     "output_type": "stream",
     "text": [
      "1\t2\t3\t4\t5\t6\t7\t8\t9\t10\t11\t12:\n"
     ]
    }
   ],
   "source": [
    "# Task 01\n",
    "\n",
    "result = ''\n",
    "\n",
    "# iterate using while\n",
    "count = 1\n",
    "sep = '\\t'\n",
    "\n",
    "while count < 13:\n",
    "    if count == 12:\n",
    "        sep = ''\n",
    "    result += str(count) + sep\n",
    "    count += 1\n",
    "    \n",
    "# print output\n",
    "print(result)\n"
   ]
  },
  {
   "cell_type": "code",
   "execution_count": 6,
   "id": "0a379e77",
   "metadata": {},
   "outputs": [
    {
     "data": {
      "text/plain": [
       "'\\nTask 02\\nWrite Python code which displays the numbers 12 to 1 separated by commas “,”. Make sure \\nthe last number is not displaying the comma after it.\\nPlace your work inside a script file called task_two.py.\\nThe expected output should be:\\n12,11,10,9,8,7,6,5,4,3,2,1\\n'"
      ]
     },
     "execution_count": 6,
     "metadata": {},
     "output_type": "execute_result"
    }
   ],
   "source": [
    "'''\n",
    "Task 02\n",
    "Write Python code which displays the numbers 12 to 1 separated by commas “,”. Make sure \n",
    "the last number is not displaying the comma after it.\n",
    "Place your work inside a script file called task_two.py.\n",
    "The expected output should be:\n",
    "12,11,10,9,8,7,6,5,4,3,2,1\n",
    "'''"
   ]
  },
  {
   "cell_type": "code",
   "execution_count": 8,
   "id": "2b6507ef",
   "metadata": {},
   "outputs": [
    {
     "name": "stdout",
     "output_type": "stream",
     "text": [
      "12,11,10,9,8,7,6,5,4,3,2,1\n"
     ]
    }
   ],
   "source": [
    "# Task 02\n",
    "\n",
    "result = ''\n",
    "\n",
    "# iterate using while\n",
    "count = 12\n",
    "sep = ','\n",
    "\n",
    "while count > 0:\n",
    "    if count == 1:\n",
    "        sep = ''\n",
    "    result += str(count) + sep\n",
    "    count -= 1\n",
    "    \n",
    "# print output\n",
    "print(result)"
   ]
  },
  {
   "cell_type": "code",
   "execution_count": 9,
   "id": "be82dc82",
   "metadata": {},
   "outputs": [
    {
     "data": {
      "text/plain": [
       "'\\nTask 03\\nWrite Python code which starts with the number 1 and then displays the result of \\nhalving the previous number until the result is less than 0.001. \\nPlace your work inside a script file called task_three.py.\\nThe expected output should be:\\n1.0\\n0.5\\n0.25\\n0.125\\n0.0625\\n0.03125\\n0.015625\\n0.0078125\\n0.00390625\\n0.001953125\\n'"
      ]
     },
     "execution_count": 9,
     "metadata": {},
     "output_type": "execute_result"
    }
   ],
   "source": [
    "'''\n",
    "Task 03\n",
    "Write Python code which starts with the number 1 and then displays the result of \n",
    "halving the previous number until the result is less than 0.001. \n",
    "Place your work inside a script file called task_three.py.\n",
    "The expected output should be:\n",
    "1.0\n",
    "0.5\n",
    "0.25\n",
    "0.125\n",
    "0.0625\n",
    "0.03125\n",
    "0.015625\n",
    "0.0078125\n",
    "0.00390625\n",
    "0.001953125\n",
    "'''"
   ]
  },
  {
   "cell_type": "code",
   "execution_count": 10,
   "id": "4c90c9bc",
   "metadata": {},
   "outputs": [
    {
     "name": "stdout",
     "output_type": "stream",
     "text": [
      "1.0\n",
      "0.5\n",
      "0.25\n",
      "0.125\n",
      "0.0625\n",
      "0.03125\n",
      "0.015625\n",
      "0.0078125\n",
      "0.00390625\n",
      "0.001953125\n"
     ]
    }
   ],
   "source": [
    "# Task 03\n",
    "\n",
    "result = ''\n",
    "\n",
    "# iterate using while\n",
    "value = 1.0\n",
    "\n",
    "while value >= 0.001:\n",
    "    print(value)\n",
    "    value /= 2\n",
    "    \n"
   ]
  },
  {
   "cell_type": "code",
   "execution_count": 11,
   "id": "e5c662d6",
   "metadata": {},
   "outputs": [
    {
     "data": {
      "text/plain": [
       "'\\nTask 04\\nWrite Python code which generates and displays 10 random (integer) numbers between 0 \\nand 50, note that each time this program runs the results are different.\\nPlace your work inside a script file called task_four.py.\\n'"
      ]
     },
     "execution_count": 11,
     "metadata": {},
     "output_type": "execute_result"
    }
   ],
   "source": [
    "'''\n",
    "Task 04\n",
    "Write Python code which generates and displays 10 random (integer) numbers between 0 \n",
    "and 50, note that each time this program runs the results are different.\n",
    "Place your work inside a script file called task_four.py.\n",
    "'''"
   ]
  },
  {
   "cell_type": "code",
   "execution_count": 12,
   "id": "f57ae2d8",
   "metadata": {},
   "outputs": [
    {
     "name": "stdout",
     "output_type": "stream",
     "text": [
      "Numbers generated:\n",
      "17\n",
      "30\n",
      "14\n",
      "46\n",
      "49\n",
      "5\n",
      "35\n",
      "49\n",
      "25\n",
      "26\n"
     ]
    }
   ],
   "source": [
    "# Task 04\n",
    "\n",
    "import random\n",
    "\n",
    "count = 0\n",
    "print(\"Numbers generated:\")\n",
    "\n",
    "while count < 10:\n",
    "    # generate random from 0-50\n",
    "    num = random.randint(0,50)\n",
    "    print(num)\n",
    "    \n",
    "    count += 1"
   ]
  },
  {
   "cell_type": "code",
   "execution_count": 13,
   "id": "c0940e7e",
   "metadata": {},
   "outputs": [
    {
     "data": {
      "text/plain": [
       "'\\nTask 05\\nRepeat your code from the previous task inside of a new .py file called task_five.py.\\nIn addition to generating the 10 random numbers, display the lowest of the 10 numbers.\\n'"
      ]
     },
     "execution_count": 13,
     "metadata": {},
     "output_type": "execute_result"
    }
   ],
   "source": [
    "'''\n",
    "Task 05\n",
    "Repeat your code from the previous task inside of a new .py file called task_five.py.\n",
    "In addition to generating the 10 random numbers, display the lowest of the 10 numbers.\n",
    "'''"
   ]
  },
  {
   "cell_type": "code",
   "execution_count": 15,
   "id": "c9f82325",
   "metadata": {},
   "outputs": [
    {
     "name": "stdout",
     "output_type": "stream",
     "text": [
      "Numbers generated:\n",
      "1\n",
      "11\n",
      "14\n",
      "31\n",
      "9\n",
      "13\n",
      "35\n",
      "38\n",
      "29\n",
      "11\n",
      "Lowest number:  1\n"
     ]
    }
   ],
   "source": [
    "# Task 05\n",
    "\n",
    "import random\n",
    "\n",
    "count = 0\n",
    "min = 51\n",
    "print(\"Numbers generated:\")\n",
    "\n",
    "while count < 10:\n",
    "    # generate random from 0-50\n",
    "    num = random.randint(0,50)\n",
    "    print(num)\n",
    "    if num < min:\n",
    "        min = num\n",
    "    \n",
    "    count += 1\n",
    "    \n",
    "print(\"Lowest number: \", min)\n",
    "\n"
   ]
  },
  {
   "cell_type": "code",
   "execution_count": 16,
   "id": "2a140aa6",
   "metadata": {},
   "outputs": [
    {
     "data": {
      "text/plain": [
       "'\\nTask 06\\nRepeat your code from the previous task inside of a new .py file called task_six.py.\\nIn addition to the lowest number, display the highest and the average of the 10 \\nnumbers.\\n'"
      ]
     },
     "execution_count": 16,
     "metadata": {},
     "output_type": "execute_result"
    }
   ],
   "source": [
    "'''\n",
    "Task 06\n",
    "Repeat your code from the previous task inside of a new .py file called task_six.py.\n",
    "In addition to the lowest number, display the highest and the average of the 10 \n",
    "numbers.\n",
    "'''"
   ]
  },
  {
   "cell_type": "code",
   "execution_count": 21,
   "id": "5b42ef35",
   "metadata": {},
   "outputs": [
    {
     "name": "stdout",
     "output_type": "stream",
     "text": [
      "Numbers generated:\n",
      "20\n",
      "39\n",
      "1\n",
      "27\n",
      "10\n",
      "25\n",
      "5\n",
      "28\n",
      "15\n",
      "0\n",
      "Lowest number:  0\n",
      "Highest number:  39\n",
      "Average:  17\n"
     ]
    }
   ],
   "source": [
    "# Task 06\n",
    "\n",
    "import random\n",
    "\n",
    "count = 0\n",
    "\n",
    "min = 51\n",
    "max = 0\n",
    "total = 0\n",
    "sample = 10\n",
    "\n",
    "print(\"Numbers generated:\")\n",
    "\n",
    "while count < sample:\n",
    "    # generate random from 0-50\n",
    "    num = random.randint(0,50)\n",
    "    print(num)\n",
    "    if num < min:\n",
    "        min = num\n",
    "    if num > max:\n",
    "        max = num\n",
    "    total += num\n",
    "    \n",
    "    count += 1\n",
    "    \n",
    "print(\"Lowest number: \", min)\n",
    "print(\"Highest number: \", max)\n",
    "print(\"Average: \", int(total/sample))"
   ]
  },
  {
   "cell_type": "code",
   "execution_count": 22,
   "id": "8776471f",
   "metadata": {},
   "outputs": [
    {
     "data": {
      "text/plain": [
       "'\\nTask 07\\nWrite a program that simulates the roll of two six sided dice.\\nThe program should ask the user to guess the total sum of the dice. The user has to \\nkeep guessing until they get the total correct, and the program should tell them how \\nmany tries it took.\\nSave your work in a new script file called task_seven.py\\n'"
      ]
     },
     "execution_count": 22,
     "metadata": {},
     "output_type": "execute_result"
    }
   ],
   "source": [
    "'''\n",
    "Task 07\n",
    "Write a program that simulates the roll of two six sided dice.\n",
    "The program should ask the user to guess the total sum of the dice. The user has to \n",
    "keep guessing until they get the total correct, and the program should tell them how \n",
    "many tries it took.\n",
    "Save your work in a new script file called task_seven.py\n",
    "'''"
   ]
  },
  {
   "cell_type": "code",
   "execution_count": 28,
   "id": "99ce3ccd",
   "metadata": {},
   "outputs": [
    {
     "name": "stdout",
     "output_type": "stream",
     "text": [
      "What do you think the total of two six-sided die will be? 1\n",
      "The total was 9. Try again!\n",
      "What do you think the total of two six-sided die will be? 9\n",
      "The total was 5. Try again!\n",
      "What do you think the total of two six-sided die will be? 5\n",
      "The total was 10. Try again!\n",
      "What do you think the total of two six-sided die will be? 11\n",
      "The total was 7. Try again!\n",
      "What do you think the total of two six-sided die will be? 3\n",
      "The total was 5. Try again!\n",
      "What do you think the total of two six-sided die will be? 7\n",
      "The total was 7. Congratulations! It took you 6 tries to guess successfully\n"
     ]
    }
   ],
   "source": [
    "# Task 07\n",
    "\n",
    "import random\n",
    "\n",
    "# zero the count\n",
    "count = 0\n",
    "# iterate until the user guesses the correct roll\n",
    "while True:\n",
    "    # roll the dice\n",
    "    total = random.randint(1,6) + random.randint(1,6)\n",
    "    #print(\"Dice: \", total)\n",
    "    \n",
    "    # let user guess\n",
    "    guess = input(\"What do you think the total of two six-sided die will be? \")\n",
    "    # allow for an exit\n",
    "    if guess == '':\n",
    "        break\n",
    "    guess = int(guess)\n",
    "    # bump the count\n",
    "    count += 1\n",
    "    \n",
    "    # check the guess\n",
    "    if guess == total:\n",
    "        print(\"The total was \" + str(total) + \". Congratulations! It took you \" + str(count) + \" tries to guess successfully\")\n",
    "        break\n",
    "    else:\n",
    "        print(\"The total was \" + str(total) + \". Try again!\")"
   ]
  },
  {
   "cell_type": "code",
   "execution_count": null,
   "id": "6e8ca24b",
   "metadata": {},
   "outputs": [],
   "source": []
  },
  {
   "cell_type": "code",
   "execution_count": null,
   "id": "1c46fd91",
   "metadata": {},
   "outputs": [],
   "source": []
  }
 ],
 "metadata": {
  "kernelspec": {
   "display_name": "Python 3 (ipykernel)",
   "language": "python",
   "name": "python3"
  },
  "language_info": {
   "codemirror_mode": {
    "name": "ipython",
    "version": 3
   },
   "file_extension": ".py",
   "mimetype": "text/x-python",
   "name": "python",
   "nbconvert_exporter": "python",
   "pygments_lexer": "ipython3",
   "version": "3.10.2"
  }
 },
 "nbformat": 4,
 "nbformat_minor": 5
}
