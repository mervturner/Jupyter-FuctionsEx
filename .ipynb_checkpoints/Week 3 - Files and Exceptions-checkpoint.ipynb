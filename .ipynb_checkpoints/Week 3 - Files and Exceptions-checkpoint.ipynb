{
 "cells": [
  {
   "cell_type": "code",
   "execution_count": 1,
   "id": "4d5e1ff8",
   "metadata": {},
   "outputs": [],
   "source": [
    "# Week 3 - Files and Exceptions"
   ]
  },
  {
   "cell_type": "code",
   "execution_count": 4,
   "id": "4650b2bd",
   "metadata": {},
   "outputs": [],
   "source": [
    "file = open('week3.txt','w')\n",
    "file.close()"
   ]
  },
  {
   "cell_type": "code",
   "execution_count": 11,
   "id": "2ac0588f",
   "metadata": {},
   "outputs": [],
   "source": [
    "# Writing data to a file\n",
    "file = open('week3.txt','w')\n",
    "\n",
    "file.write('John Locke\\n')\n",
    "file.write('David Hume\\n')\n",
    "file.write('Edmund Burke\\n')\n",
    "\n",
    "file.close()"
   ]
  },
  {
   "cell_type": "code",
   "execution_count": 9,
   "id": "b0df999d",
   "metadata": {},
   "outputs": [
    {
     "name": "stdout",
     "output_type": "stream",
     "text": [
      "\n",
      "\n",
      "\n"
     ]
    }
   ],
   "source": [
    "# Reading the file\n",
    "infile = open('week3.txt','r')\n",
    "\n",
    "file_list = file.readlines()\n",
    "\n",
    "for line\n",
    "line1 = infile.readline()\n",
    "line2 = infile.readline()\n",
    "line3 = infile.readline()\n",
    "\n",
    "print(line1)\n",
    "print(line2)\n",
    "print(line3)\n",
    "\n",
    "infile.close()"
   ]
  },
  {
   "cell_type": "code",
   "execution_count": 12,
   "id": "21f3d8f1",
   "metadata": {},
   "outputs": [
    {
     "name": "stdout",
     "output_type": "stream",
     "text": [
      "John Locke\n",
      "David Hume\n",
      "Edmund Burke\n"
     ]
    }
   ],
   "source": [
    "# Reading the file\n",
    "infile = open('week3.txt','r')\n",
    "\n",
    "file_list = infile.readlines()\n",
    "\n",
    "for lines in file_list:\n",
    "    print(lines.strip())\n",
    "    \n",
    "infile.close()"
   ]
  },
  {
   "cell_type": "code",
   "execution_count": 13,
   "id": "5aaa7850",
   "metadata": {},
   "outputs": [],
   "source": [
    "# EXCEPTIONS"
   ]
  },
  {
   "cell_type": "code",
   "execution_count": 15,
   "id": "bfe32625",
   "metadata": {},
   "outputs": [
    {
     "name": "stdout",
     "output_type": "stream",
     "text": [
      "Enter a filename [week3.txt]rex\n",
      "An error occurred trying to read\n",
      "the file rex\n"
     ]
    }
   ],
   "source": [
    "# Program to display file content\n",
    "def main():\n",
    "    # Get the name of the file\n",
    "    filename = input('Enter a filename [week3.txt]')\n",
    "    try:\n",
    "        # open the file\n",
    "        infile = open(filename, 'r')\n",
    "        # read the files content\n",
    "        contents = infile.read()\n",
    "        # display the content\n",
    "        print(contents)\n",
    "        # close the file\n",
    "        infile.close()\n",
    "    except IOError:\n",
    "        print(\"An error occurred trying to read\")\n",
    "        print('the file', filename)\n",
    "        \n",
    "# Call the main function\n",
    "main()\n"
   ]
  },
  {
   "cell_type": "code",
   "execution_count": null,
   "id": "b54c384e",
   "metadata": {},
   "outputs": [],
   "source": [
    "# Writing data to a file\n",
    "file = open('sales_data.txt','w')\n",
    "\n",
    "file.write('300.25\\n')\n",
    "file.write('210.90\\n')\n",
    "file.write('120.51\\n')\n",
    "\n",
    "file.close()"
   ]
  },
  {
   "cell_type": "code",
   "execution_count": 20,
   "id": "a9ac7690",
   "metadata": {},
   "outputs": [
    {
     "name": "stdout",
     "output_type": "stream",
     "text": [
      "631.66\n"
     ]
    }
   ],
   "source": [
    "# Program to display total of amounts\n",
    "# in the sales_data.txt file\n",
    "\n",
    "def main():\n",
    "    # initialise the accumulator\n",
    "    total = 0.0\n",
    "    \n",
    "    try:\n",
    "        # open the file\n",
    "        infile = open('sales_data.txt', 'r')\n",
    "        # read the values from the file and accumulate\n",
    "        for line in infile:\n",
    "            amount = float(line)\n",
    "            total += amount\n",
    "            \n",
    "        # close the file\n",
    "        infile.close()\n",
    "        \n",
    "        # print the total\n",
    "        print(format(total, ',.2f'))\n",
    "    except Exception as err:\n",
    "        print(err)\n",
    "                \n",
    "# Call the main function\n",
    "main()"
   ]
  },
  {
   "cell_type": "code",
   "execution_count": 23,
   "id": "8a912dd5",
   "metadata": {},
   "outputs": [
    {
     "name": "stdout",
     "output_type": "stream",
     "text": [
      "631.66\n"
     ]
    }
   ],
   "source": [
    "# The else Clause\n",
    "def main():\n",
    "    # initialise the accumulator\n",
    "    total = 0.0\n",
    "    \n",
    "    try:\n",
    "        # open the file\n",
    "        infile = open('sales_data.txt', 'r')\n",
    "        # read the values from the file and accumulate\n",
    "        for line in infile:\n",
    "            amount = float(line)\n",
    "            total += amount\n",
    "            \n",
    "        # close the file\n",
    "        infile.close()\n",
    "        \n",
    "    except Exception as err:\n",
    "        print(err)\n",
    "    else:\n",
    "        # print the total\n",
    "        print(format(total, ',.2f'))\n",
    "        \n",
    "# Call the main function\n",
    "main()"
   ]
  },
  {
   "cell_type": "code",
   "execution_count": 25,
   "id": "9cb99759",
   "metadata": {},
   "outputs": [
    {
     "name": "stdout",
     "output_type": "stream",
     "text": [
      "[Errno 2] No such file or directory: 'sales1_data.txt'\n",
      "try/except completed\n"
     ]
    }
   ],
   "source": [
    "# The finally Clause\n",
    "def main():\n",
    "    # initialise the accumulator\n",
    "    total = 0.0\n",
    "    \n",
    "    try:\n",
    "        # open the file\n",
    "        infile = open('sales_data.txt', 'r')\n",
    "        # read the values from the file and accumulate\n",
    "        for line in infile:\n",
    "            amount = float(line)\n",
    "            total += amount\n",
    "            \n",
    "        # close the file\n",
    "        infile.close()\n",
    "        \n",
    "    except Exception as err:\n",
    "        print(err)\n",
    "    else:\n",
    "        # print the total\n",
    "        print(format(total, ',.2f'))\n",
    "    finally:\n",
    "        print(\"try/except completed\")\n",
    "        \n",
    "# Call the main function\n",
    "main()"
   ]
  },
  {
   "cell_type": "code",
   "execution_count": null,
   "id": "21b3f4f7",
   "metadata": {},
   "outputs": [],
   "source": []
  }
 ],
 "metadata": {
  "kernelspec": {
   "display_name": "Python 3 (ipykernel)",
   "language": "python",
   "name": "python3"
  },
  "language_info": {
   "codemirror_mode": {
    "name": "ipython",
    "version": 3
   },
   "file_extension": ".py",
   "mimetype": "text/x-python",
   "name": "python",
   "nbconvert_exporter": "python",
   "pygments_lexer": "ipython3",
   "version": "3.10.2"
  }
 },
 "nbformat": 4,
 "nbformat_minor": 5
}
