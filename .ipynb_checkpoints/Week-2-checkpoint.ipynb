{
 "cells": [
  {
   "cell_type": "code",
   "execution_count": 1,
   "id": "0ca72ecb",
   "metadata": {},
   "outputs": [],
   "source": [
    "# Week 2\n",
    "# Max random"
   ]
  },
  {
   "cell_type": "code",
   "execution_count": 2,
   "id": "27c49415",
   "metadata": {},
   "outputs": [
    {
     "name": "stdout",
     "output_type": "stream",
     "text": [
      "6\n",
      "29\n",
      "45\n",
      "49\n",
      "49\n",
      "44\n",
      "44\n",
      "45\n",
      "36\n",
      "34\n",
      "Highest random:  49\n"
     ]
    }
   ],
   "source": [
    "import random\n",
    "\n",
    "count = 1 \n",
    "maxran = 0\n",
    "\n",
    "while count <= 10:\n",
    "    num = random.randint(0,100)\n",
    "    print(num)\n",
    "    if num > maxran:\n",
    "        maxran = num\n",
    "    count += 1\n",
    "    \n",
    "print(\"Highest random: \", maxran)"
   ]
  },
  {
   "cell_type": "code",
   "execution_count": 3,
   "id": "cb08126c",
   "metadata": {},
   "outputs": [
    {
     "name": "stdout",
     "output_type": "stream",
     "text": [
      "while loop\n",
      "a\n",
      "12\n",
      "12.3\n",
      "True\n",
      "\n",
      "for loop\n",
      "a\n",
      "12\n",
      "12.3\n",
      "True\n"
     ]
    }
   ],
   "source": [
    "# Lists\n",
    "# for loop\n",
    "\n",
    "mark_list = ['a',12,12.3,True]\n",
    "\n",
    "print(\"while loop\")\n",
    "count = 0\n",
    "while count < len(mark_list):\n",
    "    print(mark_list[count])\n",
    "    count += 1\n",
    "\n",
    "print(\"\\nfor loop\")\n",
    "for marks in mark_list:\n",
    "    print(marks)"
   ]
  },
  {
   "cell_type": "code",
   "execution_count": 4,
   "id": "24d3b7b5",
   "metadata": {
    "scrolled": true
   },
   "outputs": [
    {
     "name": "stdout",
     "output_type": "stream",
     "text": [
      "0\n",
      "1\n",
      "2\n",
      "3\n",
      "4\n",
      "6\n",
      "7\n",
      "8\n",
      "9\n"
     ]
    }
   ],
   "source": [
    "# break & continue\n",
    "\n",
    "print()\n",
    "for i in range(10):\n",
    "    if i == 5:\n",
    "        continue\n",
    "    print(i)\n",
    "\n",
    "for i in range(10):\n",
    "    if i == 5:\n",
    "        break\n",
    "    print(i)"
   ]
  },
  {
   "cell_type": "code",
   "execution_count": 6,
   "id": "2644a568",
   "metadata": {
    "scrolled": true
   },
   "outputs": [
    {
     "name": "stdout",
     "output_type": "stream",
     "text": [
      "('John', 'Mary', 'David')\n",
      "John Mary David\n"
     ]
    }
   ],
   "source": [
    "# tuple packing & unpacking\n",
    "\n",
    "name_tuple = 'John','Mary','David'\n",
    "print(name_tuple)\n",
    "\n",
    "# assigning tuple values to separate variables\n",
    "a,b,c = name_tuple\n",
    "print(a,b,c)"
   ]
  },
  {
   "cell_type": "code",
   "execution_count": 11,
   "id": "d4685ac0",
   "metadata": {},
   "outputs": [
    {
     "name": "stdout",
     "output_type": "stream",
     "text": [
      "[1, 1, 1, 2, 3, 3, 4]\n",
      "{1, 2, 3, 4}\n",
      "{'1', '3', '4', '2'}\n"
     ]
    }
   ],
   "source": [
    "# sets - unique values\n",
    "\n",
    "# list\n",
    "name_list = [1,1,1,2,3,3,4]\n",
    "print(name_list)\n",
    "\n",
    "# set\n",
    "num_set = {1,1,1,2,3,3,4}\n",
    "print(num_set)\n",
    "\n",
    "n2_set = set(\"1112334\")\n",
    "print(n2_set)"
   ]
  },
  {
   "cell_type": "code",
   "execution_count": 12,
   "id": "19877ee4",
   "metadata": {},
   "outputs": [
    {
     "name": "stdout",
     "output_type": "stream",
     "text": [
      "{'5', '3', '4', '1', '2'}\n",
      "{'5', '3', '1', '2'}\n"
     ]
    }
   ],
   "source": [
    "# add & remove set elements\n",
    "n2_set.add(\"5\")\n",
    "print(n2_set)\n",
    "n2_set.remove(\"4\")\n",
    "print(n2_set)\n"
   ]
  },
  {
   "cell_type": "code",
   "execution_count": 14,
   "id": "bae52ee2",
   "metadata": {
    "scrolled": true
   },
   "outputs": [
    {
     "name": "stdout",
     "output_type": "stream",
     "text": [
      "False\n",
      "True\n"
     ]
    }
   ],
   "source": [
    "# in and not in operators\n",
    "\n",
    "list1 = [1,2,3,4,5]\n",
    "\n",
    "print(10 in list1)\n",
    "print(10 not in list1)"
   ]
  },
  {
   "cell_type": "code",
   "execution_count": 17,
   "id": "00adc908",
   "metadata": {},
   "outputs": [
    {
     "name": "stdout",
     "output_type": "stream",
     "text": [
      "{'John': 50, 'Mary': 45}\n",
      "<class 'dict'>\n",
      "{'one': 1, 'two': 2, 'dog': 'rex'}\n"
     ]
    }
   ],
   "source": [
    "# dictionary\n",
    "\n",
    "dict1 = {\"John\" : 50, \"Mary\" : 45}\n",
    "print(dict1)\n",
    "print(type(dict1))\n",
    "\n",
    "dict2 = dict(one=1, two=2, dog='rex')\n",
    "print(dict2)\n"
   ]
  },
  {
   "cell_type": "code",
   "execution_count": 23,
   "id": "0cda3cbc",
   "metadata": {},
   "outputs": [
    {
     "name": "stdout",
     "output_type": "stream",
     "text": [
      "7.0\n",
      "4.5\n",
      "3.0\n"
     ]
    },
    {
     "ename": "TypeError",
     "evalue": "average2() got multiple values for argument 'a'",
     "output_type": "error",
     "traceback": [
      "\u001b[1;31m---------------------------------------------------------------------------\u001b[0m",
      "\u001b[1;31mTypeError\u001b[0m                                 Traceback (most recent call last)",
      "Input \u001b[1;32mIn [23]\u001b[0m, in \u001b[0;36m<module>\u001b[1;34m\u001b[0m\n\u001b[0;32m     13\u001b[0m \u001b[38;5;28mprint\u001b[39m(average2(\u001b[38;5;241m2\u001b[39m, b\u001b[38;5;241m=\u001b[39m\u001b[38;5;241m4\u001b[39m))\n\u001b[0;32m     14\u001b[0m \u001b[38;5;66;03m#print(average2(b=4, 2))\u001b[39;00m\n\u001b[1;32m---> 15\u001b[0m \u001b[38;5;28mprint\u001b[39m(\u001b[43maverage2\u001b[49m\u001b[43m(\u001b[49m\u001b[38;5;241;43m2\u001b[39;49m\u001b[43m,\u001b[49m\u001b[43m \u001b[49m\u001b[43ma\u001b[49m\u001b[38;5;241;43m=\u001b[39;49m\u001b[38;5;241;43m4\u001b[39;49m\u001b[43m)\u001b[49m)\n",
      "\u001b[1;31mTypeError\u001b[0m: average2() got multiple values for argument 'a'"
     ]
    }
   ],
   "source": [
    "# Declared functions\n",
    "def average2(a:int, b:int) -> float:\n",
    "    result = (a+b)/2\n",
    "    return result\n",
    "\n",
    "# positional function arguments\n",
    "print(average2(10,4))\n",
    "\n",
    "# keyword function arguments\n",
    "print(average2(b=4, a=5))\n",
    "\n",
    "# combinations\n",
    "print(average2(2, b=4))\n",
    "#print(average2(b=4, 2))\n",
    "print(average2(2, a=4))"
   ]
  },
  {
   "cell_type": "code",
   "execution_count": 31,
   "id": "2a2a131b",
   "metadata": {},
   "outputs": [
    {
     "ename": "UnboundLocalError",
     "evalue": "local variable 'total' referenced before assignment",
     "output_type": "error",
     "traceback": [
      "\u001b[1;31m---------------------------------------------------------------------------\u001b[0m",
      "\u001b[1;31mUnboundLocalError\u001b[0m                         Traceback (most recent call last)",
      "Input \u001b[1;32mIn [31]\u001b[0m, in \u001b[0;36m<module>\u001b[1;34m\u001b[0m\n\u001b[0;32m      9\u001b[0m     total \u001b[38;5;241m+\u001b[39m\u001b[38;5;241m=\u001b[39m \u001b[38;5;241m5\u001b[39m\n\u001b[0;32m     10\u001b[0m     \u001b[38;5;28mprint\u001b[39m(\u001b[38;5;124m\"\u001b[39m\u001b[38;5;124mBump: \u001b[39m\u001b[38;5;124m\"\u001b[39m, total)\n\u001b[1;32m---> 12\u001b[0m \u001b[43mbump_total\u001b[49m\u001b[43m(\u001b[49m\u001b[43m)\u001b[49m\n\u001b[0;32m     13\u001b[0m \u001b[38;5;28mprint\u001b[39m(\u001b[38;5;124m\"\u001b[39m\u001b[38;5;124mMain: \u001b[39m\u001b[38;5;124m\"\u001b[39m, total)\n",
      "Input \u001b[1;32mIn [31]\u001b[0m, in \u001b[0;36mbump_total\u001b[1;34m()\u001b[0m\n\u001b[0;32m      7\u001b[0m \u001b[38;5;28;01mdef\u001b[39;00m \u001b[38;5;21mbump_total\u001b[39m():\n\u001b[0;32m      8\u001b[0m \u001b[38;5;66;03m#    global total\u001b[39;00m\n\u001b[1;32m----> 9\u001b[0m     total \u001b[38;5;241m+\u001b[39m\u001b[38;5;241m=\u001b[39m \u001b[38;5;241m5\u001b[39m\n\u001b[0;32m     10\u001b[0m     \u001b[38;5;28mprint\u001b[39m(\u001b[38;5;124m\"\u001b[39m\u001b[38;5;124mBump: \u001b[39m\u001b[38;5;124m\"\u001b[39m, total)\n",
      "\u001b[1;31mUnboundLocalError\u001b[0m: local variable 'total' referenced before assignment"
     ]
    }
   ],
   "source": [
    "# global variables\n",
    "\n",
    "global total\n",
    "\n",
    "total = 10\n",
    "\n",
    "def bump_total():\n",
    "#    global total\n",
    "    total += 5\n",
    "    print(\"Bump: \", total)\n",
    "          \n",
    "bump_total()\n",
    "print(\"Main: \", total)"
   ]
  },
  {
   "cell_type": "code",
   "execution_count": null,
   "id": "c7136ce1",
   "metadata": {},
   "outputs": [],
   "source": []
  }
 ],
 "metadata": {
  "kernelspec": {
   "display_name": "Python 3 (ipykernel)",
   "language": "python",
   "name": "python3"
  },
  "language_info": {
   "codemirror_mode": {
    "name": "ipython",
    "version": 3
   },
   "file_extension": ".py",
   "mimetype": "text/x-python",
   "name": "python",
   "nbconvert_exporter": "python",
   "pygments_lexer": "ipython3",
   "version": "3.10.2"
  }
 },
 "nbformat": 4,
 "nbformat_minor": 5
}
