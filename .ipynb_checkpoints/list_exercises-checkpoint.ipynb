{
 "cells": [
  {
   "cell_type": "markdown",
   "id": "0937c099",
   "metadata": {},
   "source": [
    "\n",
    "Python Exercises - Lists\n",
    "\n",
    "Outcomes\n",
    "By the completion of this exercise you should understand how to:\n",
    "• Initialize a list\n",
    "• Read elements from a list\n",
    "• Modify elements in a list\n",
    "• Iterate through a list\n",
    "\n",
    "Overview\n",
    "\n",
    "Introduction\n",
    "In this exercise we will be looking at how we can use lists to store a collection of \n",
    "information\n",
    "\n",
    "Instructions\n",
    "\n",
    "For the following tasks, you will be provided minimal instructions, and have to rely on \n",
    "the guidance and your own research to complete them.\n",
    "Your work should be placed inside of a folder called list_exercises. It will have the \n",
    "following structure:\n",
    "\n",
    "list_exercises/\n",
    "├── task_one.py\n",
    "├── task_two.py\n",
    "├── task_three.py\n",
    "├── task_four.py\n",
    "\n",
    "Note that there is a .py file for each task. Ensure you follow this structure when \n",
    "completing each task in this set of exercises. If you are unsure how to create script \n",
    "files, consult your teacher.\n"
   ]
  },
  {
   "cell_type": "code",
   "execution_count": 6,
   "id": "fb49bedf",
   "metadata": {},
   "outputs": [
    {
     "data": {
      "text/plain": [
       "'\\nTask 01\\n\\nWrite Python code to fill an empty list with 10 random integer numbers between 0 and \\n70.\\nDisplay the integers from first to last, and then display the integers from last to \\nfirst.\\nCall your file task_one.py\\n'"
      ]
     },
     "execution_count": 6,
     "metadata": {},
     "output_type": "execute_result"
    }
   ],
   "source": [
    "'''\n",
    "Task 01\n",
    "\n",
    "Write Python code to fill an empty list with 10 random integer numbers between 0 and \n",
    "70.\n",
    "Display the integers from first to last, and then display the integers from last to \n",
    "first.\n",
    "Call your file task_one.py\n",
    "'''"
   ]
  },
  {
   "cell_type": "code",
   "execution_count": 12,
   "id": "8b50db59",
   "metadata": {},
   "outputs": [
    {
     "name": "stdout",
     "output_type": "stream",
     "text": [
      "Random list:   [2, 4, 4, 2, 4, 5, 6, 8, 8, 1]\n",
      "Sorted list:   [1, 2, 2, 4, 4, 4, 5, 6, 8, 8]\n",
      "Reverse list:  [8, 8, 6, 5, 4, 4, 4, 2, 2, 1]\n"
     ]
    }
   ],
   "source": [
    "# Task 01\n",
    "\n",
    "import random\n",
    "\n",
    "num_list = []\n",
    "\n",
    "for num in range(0,10):\n",
    "    num_list.append(random.randint(0,10))\n",
    "    \n",
    "print(\"Random list:  \", num_list)\n",
    "num_list.sort()\n",
    "print(\"Sorted list:  \", num_list)\n",
    "num_list.sort(reverse=True)\n",
    "print(\"Reverse list: \", num_list)"
   ]
  },
  {
   "cell_type": "code",
   "execution_count": 13,
   "id": "0cd9c029",
   "metadata": {},
   "outputs": [
    {
     "data": {
      "text/plain": [
       "'\\nTask 02\\nWrite Python code that prompts the user to make a choice for a pizza size - S, M, L, or \\nX - and then displays the price as $6.99, $8.99, $12.50, or $15.00, accordingly.\\nYour code should use two lists; one for the pizza size, and another for the price.\\nDisplay an error message if the user enters an invalid pizza size. \\nCall your file task_two.py\\n'"
      ]
     },
     "execution_count": 13,
     "metadata": {},
     "output_type": "execute_result"
    }
   ],
   "source": [
    "'''\n",
    "Task 02\n",
    "Write Python code that prompts the user to make a choice for a pizza size - S, M, L, or \n",
    "X - and then displays the price as $6.99, $8.99, $12.50, or $15.00, accordingly.\n",
    "Your code should use two lists; one for the pizza size, and another for the price.\n",
    "Display an error message if the user enters an invalid pizza size. \n",
    "Call your file task_two.py\n",
    "'''"
   ]
  },
  {
   "cell_type": "code",
   "execution_count": 31,
   "id": "32e36a8a",
   "metadata": {},
   "outputs": [
    {
     "name": "stdout",
     "output_type": "stream",
     "text": [
      "Enter size of the pizza: S\n",
      "The price is: $6.99\n",
      "Enter size of the pizza: M\n",
      "The price is: $8.99\n",
      "Enter size of the pizza: L\n",
      "The price is: $12.50\n",
      "Enter size of the pizza: X\n",
      "The price is: $15.00\n",
      "Enter size of the pizza: a\n",
      "Invalid pizza size!!\n",
      "Enter size of the pizza: \n",
      "Come again!\n"
     ]
    }
   ],
   "source": [
    "# Task 02\n",
    "\n",
    "# Set size and price lists\n",
    "size_list = ['S', 'M', 'L', 'X']\n",
    "price_list = [\"$6.99\", \"$8.99\", \"$12.50\", \"$15.00\"]\n",
    "\n",
    "# iterate to get pizza size and display price - exit if user enters Return\n",
    "user_size = ''\n",
    "while True:\n",
    "    user_size = input(\"Enter size of the pizza: \")\n",
    "    # check to exit\n",
    "    if user_size == '':\n",
    "        break\n",
    "    # print user size request\n",
    "    #print(\"Size: \", user_size)\n",
    "    \n",
    "    # check size is valid\n",
    "    if user_size in size_list:\n",
    "        pizza_index = size_list.index(user_size)\n",
    "        print(\"The price is:\", price_list[pizza_index])\n",
    "    else:\n",
    "        print(\"Invalid pizza size!!\")\n",
    "        \n",
    "    \n",
    "print(\"Come again!\")"
   ]
  },
  {
   "cell_type": "code",
   "execution_count": 32,
   "id": "5a8c8b3e",
   "metadata": {},
   "outputs": [
    {
     "data": {
      "text/plain": [
       "'\\nTask 03 – Analyse Scores\\nWrite Python code that reads an unspecified number of scores and determines how many \\nscores are above or equal to the average and how many scores are below the average. \\nEnter a negative number to signify the end of the input. Assume that the maximum number \\nof scores is 100.\\nCall your file task_three.py\\n'"
      ]
     },
     "execution_count": 32,
     "metadata": {},
     "output_type": "execute_result"
    }
   ],
   "source": [
    "'''\n",
    "Task 03 – Analyse Scores\n",
    "Write Python code that reads an unspecified number of scores and determines how many \n",
    "scores are above or equal to the average and how many scores are below the average. \n",
    "Enter a negative number to signify the end of the input. Assume that the maximum number \n",
    "of scores is 100.\n",
    "Call your file task_three.py\n",
    "'''"
   ]
  },
  {
   "cell_type": "code",
   "execution_count": 39,
   "id": "577556bb",
   "metadata": {},
   "outputs": [
    {
     "name": "stdout",
     "output_type": "stream",
     "text": [
      "Enter the score: 24\n",
      "Enter the score: 30\n",
      "Enter the score: 50\n",
      "Enter the score: 24\n",
      "Enter the score: 45\n",
      "Enter the score: 15\n",
      "Enter the score: 60\n",
      "Enter the score: 70\n",
      "Enter the score: -5\n",
      "\n",
      "Average:  39.75\n",
      "Scores above or equal to the average:  4\n",
      "Scores below the average:  4\n"
     ]
    }
   ],
   "source": [
    "# Task 03 - Analyse Scores\n",
    "\n",
    "# Set score lists\n",
    "score_list = []\n",
    "\n",
    "# iterate to get scores - exit if user enters negative number\n",
    "\n",
    "while True:\n",
    "    score = int(input(\"Enter the score: \"))\n",
    "    # check to exit\n",
    "    if score < 0:\n",
    "        break\n",
    "    # append score to list\n",
    "    score_list.append(score)\n",
    "\n",
    "# check for entries and print stats\n",
    "if len(score_list) == 0:\n",
    "    print(\"\\nNo scores entered!\")\n",
    "else:\n",
    "    # determine the average of the list as sum/len\n",
    "    avg = sum(score_list)/len(score_list)\n",
    "    print(\"\\nAverage: \", avg)\n",
    "    \n",
    "    # determine above and below counts\n",
    "    above = 0\n",
    "    below = 0\n",
    "    # iterate through score list\n",
    "    for i in score_list:\n",
    "        if i >= avg:\n",
    "            above += 1\n",
    "        else:\n",
    "            below += 1\n",
    "    # print the results\n",
    "    print(\"Scores above or equal to the average: \", above)\n",
    "    print(\"Scores below the average: \", below)\n",
    "    "
   ]
  },
  {
   "cell_type": "code",
   "execution_count": 40,
   "id": "81fc2d6c",
   "metadata": {},
   "outputs": [
    {
     "data": {
      "text/plain": [
       "'\\nTask 04\\nWrite Python code that asks the user for 7 integer numbers and display the even ones.\\nCall your file task_four.py.\\n'"
      ]
     },
     "execution_count": 40,
     "metadata": {},
     "output_type": "execute_result"
    }
   ],
   "source": [
    "'''\n",
    "Task 04\n",
    "Write Python code that asks the user for 7 integer numbers and display the even ones.\n",
    "Call your file task_four.py.\n",
    "'''"
   ]
  },
  {
   "cell_type": "code",
   "execution_count": 45,
   "id": "29deba9c",
   "metadata": {},
   "outputs": [
    {
     "name": "stdout",
     "output_type": "stream",
     "text": [
      "Enter number: 2\n",
      "Enter number: 4\n",
      "Enter number: 6\n",
      "Enter number: 8\n",
      "Enter number: 10\n",
      "Enter number: 12\n",
      "Enter number: 14\n",
      "\n",
      "Even numbers: 2, 4, 6, 8, 10, 12, 14\n"
     ]
    }
   ],
   "source": [
    "# Task 04 - Even numbers\n",
    "\n",
    "# Set number lists\n",
    "num_list = []\n",
    "\n",
    "# iterate to get  7 numbers\n",
    "\n",
    "count = 0\n",
    "while count < 7:\n",
    "    num = int(input(\"Enter number: \"))\n",
    "    # append number to list\n",
    "    num_list.append(num)\n",
    "    count += 1\n",
    "\n",
    "# iterate over list, create a string of even numbers\n",
    "\n",
    "result = \"\\nEven numbers:\"\n",
    "sep = \" \"\n",
    "# iterate through list\n",
    "for i in range(len(num_list)):\n",
    "    if num_list[i]%2 == 0:\n",
    "        result += sep + str(num_list[i])\n",
    "        sep = \", \"\n",
    "    \n",
    "# print the results\n",
    "print(result)\n"
   ]
  },
  {
   "cell_type": "code",
   "execution_count": 46,
   "id": "935e2f7b",
   "metadata": {},
   "outputs": [
    {
     "data": {
      "text/plain": [
       "'\\nTask 05 – Count Single Digits\\n\\nWrite a program that generates 20 random integers between 0 and 9 and displays the \\ncount for each number.\\nUse a list of ten integers, say counts, to store the counts for the number of 0s, 1s, \\n..., 9s.)\\nCall your file task_five.py.\\n'"
      ]
     },
     "execution_count": 46,
     "metadata": {},
     "output_type": "execute_result"
    }
   ],
   "source": [
    "'''\n",
    "Task 05 – Count Single Digits\n",
    "\n",
    "Write a program that generates 20 random integers between 0 and 9 and displays the \n",
    "count for each number.\n",
    "Use a list of ten integers, say counts, \n",
    "to store the counts for the number of 0s, 1s, ..., 9s.)\n",
    "Call your file task_five.py.\n",
    "'''"
   ]
  },
  {
   "cell_type": "code",
   "execution_count": 49,
   "id": "b801de18",
   "metadata": {},
   "outputs": [
    {
     "name": "stdout",
     "output_type": "stream",
     "text": [
      "Numbers generated:\n",
      "5\n",
      "0\n",
      "5\n",
      "6\n",
      "9\n",
      "7\n",
      "7\n",
      "5\n",
      "9\n",
      "8\n",
      "2\n",
      "4\n",
      "3\n",
      "5\n",
      "5\n",
      "2\n",
      "5\n",
      "6\n",
      "1\n",
      "0\n",
      "Number of 0's: 2\n",
      "Number of 1's: 1\n",
      "Number of 2's: 2\n",
      "Number of 3's: 1\n",
      "Number of 4's: 1\n",
      "Number of 5's: 6\n",
      "Number of 6's: 2\n",
      "Number of 7's: 2\n",
      "Number of 8's: 1\n",
      "Number of 9's: 2\n"
     ]
    }
   ],
   "source": [
    "# Task 05 - Count Single Digits\n",
    "\n",
    "import random\n",
    "\n",
    "# initialise counts to zero\n",
    "count_list = [0,0,0,0,0,0,0,0,0,0]\n",
    "\n",
    "# iterate for 20 random numbers\n",
    "count = 0\n",
    "print(\"Numbers generated:\")\n",
    "\n",
    "while count <20:\n",
    "    # generate random from 0-9\n",
    "    num = random.randint(0,9)\n",
    "    print(num)\n",
    "    # bump the count_list\n",
    "    count_list[num] += 1\n",
    "    count += 1\n",
    "\n",
    "# print counts\n",
    "for i in range(0,10):\n",
    "    print(\"Number of \" + str(i) + \"\\'s: \" + str(count_list[i]))\n",
    "    \n"
   ]
  },
  {
   "cell_type": "code",
   "execution_count": null,
   "id": "e8df629a",
   "metadata": {},
   "outputs": [],
   "source": []
  }
 ],
 "metadata": {
  "kernelspec": {
   "display_name": "Python 3 (ipykernel)",
   "language": "python",
   "name": "python3"
  },
  "language_info": {
   "codemirror_mode": {
    "name": "ipython",
    "version": 3
   },
   "file_extension": ".py",
   "mimetype": "text/x-python",
   "name": "python",
   "nbconvert_exporter": "python",
   "pygments_lexer": "ipython3",
   "version": "3.10.2"
  }
 },
 "nbformat": 4,
 "nbformat_minor": 5
}
