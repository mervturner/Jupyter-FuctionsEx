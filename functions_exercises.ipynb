{
 "cells": [
  {
   "cell_type": "markdown",
   "id": "2c9f4a40",
   "metadata": {},
   "source": [
    "## Python Exercises - Functions\n",
    "\n",
    "### Outcomes\n",
    "\n",
    "By the completion of this exercise you should understand how to:\n",
    " * Write a function\n",
    " * Write a function with a return type\n",
    " * Use the return keyword\n",
    " * Call a function and provide arguments\n",
    "\n",
    "### Overview\n",
    "\n",
    "#### Introduction\n",
    "In this exercise we will be looking at how we can write reusable blocks of code by \n",
    "declaring and calling functions.\n",
    "\n",
    "You will learn about the difference between a function that returns a value (has a \n",
    "return type), and a function that returns nothing. You will also learn about the \n",
    "distinction between parameters and arguments\n",
    "\n",
    "#### Instructions\n",
    "For the following tasks, you will be provided minimal instructions, and have to rely on \n",
    "the guidance and your own research to complete them.\n",
    "\n",
    "You have been provided with an existing folder called function_exercises. Your work \n",
    "should be placed inside of this folder, which uses the following structure:\n",
    "function_exercises/\n",
    "└── program.py\n",
    "\n",
    "Note that there is a single .py file, which will contain all of your work"
   ]
  },
  {
   "cell_type": "code",
   "execution_count": 20,
   "id": "03633e8c",
   "metadata": {},
   "outputs": [
    {
     "name": "stdout",
     "output_type": "stream",
     "text": [
      "The average of 3, 11 and 8 is 7.333333333333333\n",
      "The average of 7, 21 and 17 is 15.0\n",
      "The higher of 3 and 7 is 7\n",
      "The higher of 13 and 7 is 13\n",
      "2 to the power of 3 is 8\n",
      "2 to the power of 8 is 256\n",
      "5 to the power of 3 is 125\n",
      "20 to the power of 6 is 64000000\n",
      "2 to the power of 0 is 1\n",
      "The square root of 25.0 is: 5.0\n",
      "The square root of 9.0 is: 3.0\n",
      "The square root of 12.0 is: 3.4641016151377544\n",
      "Please enter the number of egg(: 11\n",
      "11 eggs is 0 full dozen with 11 egg(s) remaining.\n"
     ]
    }
   ],
   "source": [
    "def average(x: float, y: float, z: float) -> float:\n",
    "    return (x + y + z)/3\n",
    "\n",
    "\n",
    "def test_average():\n",
    "    s = \"The average of\"\n",
    "    a = average(3, 11, 8)\n",
    "    print(s, \"3, 11 and 8 is\", a)\n",
    "    a = average(7, 21, 17)\n",
    "    print(s, \"7, 21 and 17 is\", a)\n",
    "\n",
    "\n",
    "def high(a: int, b: int) -> int:\n",
    "    max = a\n",
    "    if b > a:\n",
    "        max = b\n",
    "    return max\n",
    "\n",
    "\n",
    "def test_high():\n",
    "    x, y = 3, 7\n",
    "    print(\"The higher of\", x, \"and\", y, \"is\", high(x, y))\n",
    "    x, y = 13, 7\n",
    "    print(\"The higher of\", x, \"and\", y, \"is\", high(x, y))\n",
    "\n",
    "\n",
    "def power(value1: int, value2: int) -> int:\n",
    "    # Note value1 to power of 0 is always 1\n",
    "    result = 1\n",
    "    if value2 > 0:\n",
    "        count = 1\n",
    "        while count <= value2:\n",
    "            result *= value1\n",
    "            count += 1\n",
    "    return result\n",
    "\n",
    "\n",
    "def test_power():\n",
    "    a, b = 2, 3\n",
    "    print(a, \"to the power of\", b, \"is\", power(a, b))\n",
    "    a, b = 2, 8\n",
    "    print(a, \"to the power of\", b, \"is\", power(a, b))\n",
    "    a, b = 5, 3\n",
    "    print(a, \"to the power of\", b, \"is\", power(a, b))\n",
    "    a, b = 20, 6\n",
    "    print(a, \"to the power of\", b, \"is\", power(a, b))\n",
    "    a, b = 2, 0\n",
    "    print(a, \"to the power of\", b, \"is\", power(a, b))\n",
    "\n",
    "\n",
    "# Define a function to find the square root of a number\n",
    "def square_root(value1: float) -> float:\n",
    "    # use the mat library\n",
    "    import math\n",
    "    return math.sqrt(value1)\n",
    "    \n",
    "    \n",
    "def test_square_root():\n",
    "    val1 = 25.0\n",
    "    val2 = 9.0\n",
    "    val3 = 12.0\n",
    "    print(\"The square root of\", val1, \"is:\", square_root(val1))\t\t\n",
    "    print(\"The square root of\", val2, \"is:\", square_root(val2))\n",
    "    print(\"The square root of\", val3, \"is:\", square_root(val3))\n",
    "\n",
    "# Define your functions for tasks 5 and 6 below\n",
    "\n",
    "# Task 5 - Print Car Sales\n",
    "def print_car_sales():\n",
    "    # init variables - dictionary sales[ name, count] & bar-Xs\n",
    "    car_sales = {'Pam':0, 'Leo':0, 'Kim':0, 'Bob':0}\n",
    "    bar_xs = \"X\"*30\n",
    "        \n",
    "    # accept user input & update dictionary\n",
    "    for key in car_sales:\n",
    "        entry = \"Enter cars sold by \" + key + \": \"\n",
    "        new_sales = int(input(entry))\n",
    "        car_sales[key] = new_sales\n",
    "    \n",
    "    # print the bar chart\n",
    "    print(\"\\nCar sales fprint(car_sales\")\n",
    "    for key, value in car_sales.items():\n",
    "        print(key + \"  \" + bar_xs[:value])\n",
    "    \n",
    "\n",
    "def test_print_car_sales():\n",
    "    print_car_sales()\n",
    "\n",
    "\n",
    "# Task 6 - Print Eggs\n",
    "def print_number_of_eggs(number_of_eggs : int):\n",
    "    print(str(number_of_eggs) + \" eggs is \"\n",
    "          + str(number_of_eggs//12) + \" full dozen with \" \n",
    "          + str(number_of_eggs%12) + \" egg(s) remaining.\")\n",
    "\n",
    "    \n",
    "def test_print_number_of_eggs():\n",
    "    eggs = int(input(\"Please enter the number of eggs: \"))\n",
    "    print_number_of_eggs(eggs)\n",
    "\n",
    "    \n",
    "# Run all of your test functions from the following 'if' statement\n",
    "if __name__ == '__main__':\n",
    "    test_average() \n",
    "    test_high()\n",
    "    test_power()\n",
    "    test_square_root()\n",
    "    test_print_car_sales()\n",
    "    test_print_number_of_eggs()\n"
   ]
  },
  {
   "cell_type": "code",
   "execution_count": 17,
   "id": "e2b8f071",
   "metadata": {},
   "outputs": [
    {
     "data": {
      "text/plain": [
       "'\\nTask 01\\nLook at program.py\\nComplete the code in the body of the average() function so that the correct average is \\nreturned.\\nRun the script to test your code works correctly\\n'"
      ]
     },
     "execution_count": 17,
     "metadata": {},
     "output_type": "execute_result"
    }
   ],
   "source": [
    "'''\n",
    "Task 01\n",
    "Look at program.py\n",
    "Complete the code in the body of the average() function so that the correct average is \n",
    "returned.\n",
    "Run the script to test your code works correctly\n",
    "'''"
   ]
  },
  {
   "cell_type": "markdown",
   "id": "7afa1d12",
   "metadata": {},
   "source": [
    "### '''\n",
    "Task 02\n",
    "Look at program.py\n",
    "Complete the high() function; it should return the highest of both parameters.\n",
    "Run the script to test your code works correctly.\n",
    "'''"
   ]
  },
  {
   "cell_type": "code",
   "execution_count": 9,
   "id": "2acee07b",
   "metadata": {},
   "outputs": [
    {
     "data": {
      "text/plain": [
       "'\\nTask 03\\nLook at program.py\\nWrite the power() function; it should return the first argument to the power of the \\nsecond argument.\\nNote: DO NOT get the result by using the built-in pow function or power operator. The \\nidea with this exercise is to write your own power() function using several \\nmultiplications.\\nRun the script to test your code works correctly'"
      ]
     },
     "execution_count": 9,
     "metadata": {},
     "output_type": "execute_result"
    }
   ],
   "source": [
    "'''\n",
    "Task 03\n",
    "Look at program.py\n",
    "Write the power() function; it should return the first argument to the power of the \n",
    "second argument.\n",
    "Note: DO NOT get the result by using the built-in pow function or power operator. The \n",
    "idea with this exercise is to write your own power() function using several \n",
    "multiplications.\n",
    "Run the script to test your code works correctly'''"
   ]
  },
  {
   "cell_type": "code",
   "execution_count": 11,
   "id": "15dfd508",
   "metadata": {},
   "outputs": [
    {
     "data": {
      "text/plain": [
       "'\\nTask 04\\nLook at program.py\\nCreate the missing square_root function, defining the function signature and body so \\nthat the program works as expected.\\nUncomment the test section of the script, then run it, to ensure your code works \\ncorrectly.\\n\\n'"
      ]
     },
     "execution_count": 11,
     "metadata": {},
     "output_type": "execute_result"
    }
   ],
   "source": [
    "'''\n",
    "Task 04\n",
    "Look at program.py\n",
    "Create the missing square_root function, defining the function signature and body so \n",
    "that the program works as expected.\n",
    "Uncomment the test section of the script, then run it, to ensure your code works \n",
    "correctly.\n",
    "\n",
    "'''"
   ]
  },
  {
   "cell_type": "code",
   "execution_count": 11,
   "id": "59216aed",
   "metadata": {},
   "outputs": [
    {
     "data": {
      "text/plain": [
       "'\\nTask 05\\nFriendly Hal’s Used Cars has four sales people named Pam, Leo, Kim and Bob. \\nCreate a function called print_car_sales to accept values for the number of cars sold \\nby each salesperson in a month, and create a bar chart that illustrates sales, similar \\nto the following one.\\nCreate a function called test_print_car_sales to test your function. Ensure you \\ncapture the user input and call the relevant function, in order to test your code.\\n'"
      ]
     },
     "execution_count": 11,
     "metadata": {},
     "output_type": "execute_result"
    }
   ],
   "source": [
    "'''\n",
    "Task 05\n",
    "Friendly Hal’s Used Cars has four sales people named Pam, Leo, Kim and Bob. \n",
    "Create a function called print_car_sales to accept values for the number of cars sold \n",
    "by each salesperson in a month, and create a bar chart that illustrates sales, similar \n",
    "to the following one.\n",
    "Create a function called test_print_car_sales to test your function. Ensure you \n",
    "capture the user input and call the relevant function, in order to test your code.\n",
    "'''"
   ]
  },
  {
   "cell_type": "code",
   "execution_count": null,
   "id": "dae42477",
   "metadata": {},
   "outputs": [],
   "source": [
    "'''\n",
    "Task 06\n",
    "Create a function called print_number_of_eggs.\n",
    "This function takes as an argument an integer variable named number_of_eggs, and prints \n",
    "the eggs in dozens; for example, 50 eggs is 4 full dozen (with 2 eggs remaining).\n",
    "Create a function called test_print_number_of_eggs to test your function. Ensure it \n",
    "captures the user input for the number of eggs to print out.\n",
    "'''"
   ]
  }
 ],
 "metadata": {
  "kernelspec": {
   "display_name": "Python 3 (ipykernel)",
   "language": "python",
   "name": "python3"
  },
  "language_info": {
   "codemirror_mode": {
    "name": "ipython",
    "version": 3
   },
   "file_extension": ".py",
   "mimetype": "text/x-python",
   "name": "python",
   "nbconvert_exporter": "python",
   "pygments_lexer": "ipython3",
   "version": "3.10.2"
  }
 },
 "nbformat": 4,
 "nbformat_minor": 5
}
